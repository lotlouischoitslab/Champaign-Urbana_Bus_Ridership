{
 "cells": [
  {
   "cell_type": "markdown",
   "id": "898b77e4",
   "metadata": {},
   "source": [
    "# 01. Data Analytics Part"
   ]
  },
  {
   "cell_type": "code",
   "execution_count": 23,
   "id": "dff45678",
   "metadata": {},
   "outputs": [],
   "source": [
    "import numpy as np\n",
    "import numpy.linalg as la\n",
    "import matplotlib.pyplot as plt\n",
    "import pandas as pd\n",
    "import pandas_datareader as data\n",
    "%matplotlib inline"
   ]
  },
  {
   "cell_type": "code",
   "execution_count": 24,
   "id": "fb5d1b9f",
   "metadata": {},
   "outputs": [],
   "source": [
    "df = pd.read_csv('transit-ridership.csv') #First read all the data from the csv file\n",
    "df= df.rename(columns={'Unnamed: 0': 'Year'}) #Rename the unnamed column title to 'Year'\n",
    "for i in df.columns: #for each column\n",
    "    df[i] = df[i].replace(\",\", \"\", regex=True) #remove all the commas in between each values\n",
    "df = df._convert(numeric=True) #convert the elements to numeric values"
   ]
  },
  {
   "cell_type": "code",
   "execution_count": 25,
   "id": "767b6fc1",
   "metadata": {},
   "outputs": [
    {
     "data": {
      "text/html": [
       "<div>\n",
       "<style scoped>\n",
       "    .dataframe tbody tr th:only-of-type {\n",
       "        vertical-align: middle;\n",
       "    }\n",
       "\n",
       "    .dataframe tbody tr th {\n",
       "        vertical-align: top;\n",
       "    }\n",
       "\n",
       "    .dataframe thead th {\n",
       "        text-align: right;\n",
       "    }\n",
       "</style>\n",
       "<table border=\"1\" class=\"dataframe\">\n",
       "  <thead>\n",
       "    <tr style=\"text-align: right;\">\n",
       "      <th></th>\n",
       "      <th>Year</th>\n",
       "      <th>July</th>\n",
       "      <th>October</th>\n",
       "      <th>December</th>\n",
       "      <th>February</th>\n",
       "      <th>Total</th>\n",
       "    </tr>\n",
       "  </thead>\n",
       "  <tbody>\n",
       "    <tr>\n",
       "      <th>0</th>\n",
       "      <td>FY97</td>\n",
       "      <td>287136</td>\n",
       "      <td>1052714</td>\n",
       "      <td>807508</td>\n",
       "      <td>1157678</td>\n",
       "      <td>9501302.0</td>\n",
       "    </tr>\n",
       "    <tr>\n",
       "      <th>1</th>\n",
       "      <td>FY98</td>\n",
       "      <td>289269</td>\n",
       "      <td>1142300</td>\n",
       "      <td>753231</td>\n",
       "      <td>982453</td>\n",
       "      <td>8670906.0</td>\n",
       "    </tr>\n",
       "    <tr>\n",
       "      <th>2</th>\n",
       "      <td>FY99</td>\n",
       "      <td>281914</td>\n",
       "      <td>1055683</td>\n",
       "      <td>673696</td>\n",
       "      <td>1006772</td>\n",
       "      <td>8628101.0</td>\n",
       "    </tr>\n",
       "    <tr>\n",
       "      <th>3</th>\n",
       "      <td>FY00</td>\n",
       "      <td>297848</td>\n",
       "      <td>1060153</td>\n",
       "      <td>650067</td>\n",
       "      <td>1091131</td>\n",
       "      <td>8800655.0</td>\n",
       "    </tr>\n",
       "    <tr>\n",
       "      <th>4</th>\n",
       "      <td>FY01</td>\n",
       "      <td>270213</td>\n",
       "      <td>1085119</td>\n",
       "      <td>825356</td>\n",
       "      <td>1159928</td>\n",
       "      <td>10102665.0</td>\n",
       "    </tr>\n",
       "    <tr>\n",
       "      <th>5</th>\n",
       "      <td>FY02</td>\n",
       "      <td>286552</td>\n",
       "      <td>1227976</td>\n",
       "      <td>524747</td>\n",
       "      <td>1118989</td>\n",
       "      <td>9084277.0</td>\n",
       "    </tr>\n",
       "    <tr>\n",
       "      <th>6</th>\n",
       "      <td>FY03</td>\n",
       "      <td>311041</td>\n",
       "      <td>1169216</td>\n",
       "      <td>787201</td>\n",
       "      <td>1133363</td>\n",
       "      <td>9369218.0</td>\n",
       "    </tr>\n",
       "    <tr>\n",
       "      <th>7</th>\n",
       "      <td>FY04</td>\n",
       "      <td>338494</td>\n",
       "      <td>1305943</td>\n",
       "      <td>813161</td>\n",
       "      <td>1154057</td>\n",
       "      <td>10435923.0</td>\n",
       "    </tr>\n",
       "    <tr>\n",
       "      <th>8</th>\n",
       "      <td>FY05</td>\n",
       "      <td>341083</td>\n",
       "      <td>1217625</td>\n",
       "      <td>739941</td>\n",
       "      <td>1200637</td>\n",
       "      <td>10136585.0</td>\n",
       "    </tr>\n",
       "    <tr>\n",
       "      <th>9</th>\n",
       "      <td>FY06</td>\n",
       "      <td>289169</td>\n",
       "      <td>1135129</td>\n",
       "      <td>736504</td>\n",
       "      <td>1167974</td>\n",
       "      <td>9958497.0</td>\n",
       "    </tr>\n",
       "    <tr>\n",
       "      <th>10</th>\n",
       "      <td>FY07</td>\n",
       "      <td>306992</td>\n",
       "      <td>1219370</td>\n",
       "      <td>663304</td>\n",
       "      <td>1007102</td>\n",
       "      <td>9464314.0</td>\n",
       "    </tr>\n",
       "    <tr>\n",
       "      <th>11</th>\n",
       "      <td>FY08</td>\n",
       "      <td>301446</td>\n",
       "      <td>1129080</td>\n",
       "      <td>563233</td>\n",
       "      <td>1146354</td>\n",
       "      <td>9365436.0</td>\n",
       "    </tr>\n",
       "    <tr>\n",
       "      <th>12</th>\n",
       "      <td>FY09</td>\n",
       "      <td>365289</td>\n",
       "      <td>1178063</td>\n",
       "      <td>798794</td>\n",
       "      <td>1175703</td>\n",
       "      <td>9919993.0</td>\n",
       "    </tr>\n",
       "    <tr>\n",
       "      <th>13</th>\n",
       "      <td>FY10</td>\n",
       "      <td>342639</td>\n",
       "      <td>1188246</td>\n",
       "      <td>777198</td>\n",
       "      <td>1246451</td>\n",
       "      <td>10134192.0</td>\n",
       "    </tr>\n",
       "    <tr>\n",
       "      <th>14</th>\n",
       "      <td>FY11</td>\n",
       "      <td>387210</td>\n",
       "      <td>1201806</td>\n",
       "      <td>797556</td>\n",
       "      <td>1177828</td>\n",
       "      <td>10549120.0</td>\n",
       "    </tr>\n",
       "    <tr>\n",
       "      <th>15</th>\n",
       "      <td>FY12</td>\n",
       "      <td>401883</td>\n",
       "      <td>1254804</td>\n",
       "      <td>777617</td>\n",
       "      <td>1305142</td>\n",
       "      <td>11107631.0</td>\n",
       "    </tr>\n",
       "    <tr>\n",
       "      <th>16</th>\n",
       "      <td>FY13</td>\n",
       "      <td>447178</td>\n",
       "      <td>1391576</td>\n",
       "      <td>887209</td>\n",
       "      <td>1374653</td>\n",
       "      <td>12028172.0</td>\n",
       "    </tr>\n",
       "    <tr>\n",
       "      <th>17</th>\n",
       "      <td>FY14</td>\n",
       "      <td>487363</td>\n",
       "      <td>1538309</td>\n",
       "      <td>1044064</td>\n",
       "      <td>1582330</td>\n",
       "      <td>13309332.0</td>\n",
       "    </tr>\n",
       "    <tr>\n",
       "      <th>18</th>\n",
       "      <td>FY15</td>\n",
       "      <td>524178</td>\n",
       "      <td>1606340</td>\n",
       "      <td>1068610</td>\n",
       "      <td>1576687</td>\n",
       "      <td>13551784.0</td>\n",
       "    </tr>\n",
       "    <tr>\n",
       "      <th>19</th>\n",
       "      <td>FY16</td>\n",
       "      <td>503481</td>\n",
       "      <td>1478275</td>\n",
       "      <td>949030</td>\n",
       "      <td>1537540</td>\n",
       "      <td>12770520.0</td>\n",
       "    </tr>\n",
       "    <tr>\n",
       "      <th>20</th>\n",
       "      <td>FY17</td>\n",
       "      <td>424915</td>\n",
       "      <td>1380990</td>\n",
       "      <td>857837</td>\n",
       "      <td>1251352</td>\n",
       "      <td>12099043.0</td>\n",
       "    </tr>\n",
       "    <tr>\n",
       "      <th>21</th>\n",
       "      <td>FY18</td>\n",
       "      <td>389398</td>\n",
       "      <td>1310380</td>\n",
       "      <td>917782</td>\n",
       "      <td>1375553</td>\n",
       "      <td>11528385.0</td>\n",
       "    </tr>\n",
       "    <tr>\n",
       "      <th>22</th>\n",
       "      <td>FY19</td>\n",
       "      <td>415476</td>\n",
       "      <td>1375516</td>\n",
       "      <td>920718</td>\n",
       "      <td>1375560</td>\n",
       "      <td>11629163.0</td>\n",
       "    </tr>\n",
       "    <tr>\n",
       "      <th>23</th>\n",
       "      <td>FY20</td>\n",
       "      <td>420729</td>\n",
       "      <td>1346402</td>\n",
       "      <td>873429</td>\n",
       "      <td>1331716</td>\n",
       "      <td>8967585.0</td>\n",
       "    </tr>\n",
       "    <tr>\n",
       "      <th>24</th>\n",
       "      <td>FY21</td>\n",
       "      <td>226004</td>\n",
       "      <td>343765</td>\n",
       "      <td>214183</td>\n",
       "      <td>318071</td>\n",
       "      <td>3480360.0</td>\n",
       "    </tr>\n",
       "    <tr>\n",
       "      <th>25</th>\n",
       "      <td>FY22</td>\n",
       "      <td>260815</td>\n",
       "      <td>822915</td>\n",
       "      <td>501741</td>\n",
       "      <td>762787</td>\n",
       "      <td>10183726.0</td>\n",
       "    </tr>\n",
       "  </tbody>\n",
       "</table>\n",
       "</div>"
      ],
      "text/plain": [
       "    Year    July  October  December  February       Total\n",
       "0   FY97  287136  1052714    807508   1157678   9501302.0\n",
       "1   FY98  289269  1142300    753231    982453   8670906.0\n",
       "2   FY99  281914  1055683    673696   1006772   8628101.0\n",
       "3   FY00  297848  1060153    650067   1091131   8800655.0\n",
       "4   FY01  270213  1085119    825356   1159928  10102665.0\n",
       "5   FY02  286552  1227976    524747   1118989   9084277.0\n",
       "6   FY03  311041  1169216    787201   1133363   9369218.0\n",
       "7   FY04  338494  1305943    813161   1154057  10435923.0\n",
       "8   FY05  341083  1217625    739941   1200637  10136585.0\n",
       "9   FY06  289169  1135129    736504   1167974   9958497.0\n",
       "10  FY07  306992  1219370    663304   1007102   9464314.0\n",
       "11  FY08  301446  1129080    563233   1146354   9365436.0\n",
       "12  FY09  365289  1178063    798794   1175703   9919993.0\n",
       "13  FY10  342639  1188246    777198   1246451  10134192.0\n",
       "14  FY11  387210  1201806    797556   1177828  10549120.0\n",
       "15  FY12  401883  1254804    777617   1305142  11107631.0\n",
       "16  FY13  447178  1391576    887209   1374653  12028172.0\n",
       "17  FY14  487363  1538309   1044064   1582330  13309332.0\n",
       "18  FY15  524178  1606340   1068610   1576687  13551784.0\n",
       "19  FY16  503481  1478275    949030   1537540  12770520.0\n",
       "20  FY17  424915  1380990    857837   1251352  12099043.0\n",
       "21  FY18  389398  1310380    917782   1375553  11528385.0\n",
       "22  FY19  415476  1375516    920718   1375560  11629163.0\n",
       "23  FY20  420729  1346402    873429   1331716   8967585.0\n",
       "24  FY21  226004   343765    214183    318071   3480360.0\n",
       "25  FY22  260815   822915    501741    762787  10183726.0"
      ]
     },
     "execution_count": 25,
     "metadata": {},
     "output_type": "execute_result"
    }
   ],
   "source": [
    "#Eliminating null values \n",
    "#To do so, if we find a null, we are going to replace them with the mean of the column\n",
    "for i in df.columns:\n",
    "    if i == 'Year':\n",
    "        continue #DON'T DO THIS FOR THE YEAR column\n",
    "    else:\n",
    "        a = int(df[i].mean()) #replace all the NaN with the mean value of the column \n",
    "        df[i] = df[i].fillna(a) #populate the NaN ones with the mean\n",
    "\n",
    "\n",
    "df #JUST FOR CHECKING"
   ]
  },
  {
   "cell_type": "code",
   "execution_count": 26,
   "id": "f9905a16",
   "metadata": {},
   "outputs": [
    {
     "data": {
      "text/plain": [
       "<matplotlib.legend.Legend at 0x29053965b20>"
      ]
     },
     "execution_count": 26,
     "metadata": {},
     "output_type": "execute_result"
    },
    {
     "data": {
      "image/png": "[encoded data removed]",
      "text/plain": [
       "<Figure size 1152x432 with 1 Axes>"
      ]
     },
     "metadata": {
      "needs_background": "light"
     },
     "output_type": "display_data"
    }
   ],
   "source": [
    "#### Now we are going to plot the graph using matplotlib to visualize our data input\n",
    "x = df['Year'] #x-axis is going to be our year\n",
    "plt.figure(figsize=(16,6)) #adjust the figure size\n",
    "plt.title('Champaign-Urbana Mass Transit Annual Bus Ridership',fontweight='bold',fontsize=15) #add the title\n",
    "plt.grid() #add the grid\n",
    "plt.xlabel('Year',fontsize=15) #add the x-axis label\n",
    "plt.ylabel('Passenger Ridership',fontsize=15) #add the y-axis label\n",
    "temp = df.drop('Year',axis=1) #Just drop the year column because we are not going to use that for our data analytics\n",
    "\n",
    "for i in temp.columns: #Now for each column in our python dataframe column\n",
    "    plt.plot(x,temp[i]) #I want to keep plotting\n",
    "plt.legend(temp) #Don't forget to add the legend"
   ]
  },
  {
   "cell_type": "code",
   "execution_count": 27,
   "id": "4a7b4be7",
   "metadata": {},
   "outputs": [
    {
     "name": "stdout",
     "output_type": "stream",
     "text": [
      "Maximum ridership for July is 524178\n",
      "Minimum ridership for July is 226004\n",
      "Mean ridership for July is 353758\n",
      "Range for July is 298174\n",
      "\n",
      "Maximum ridership for October is 1606340\n",
      "Minimum ridership for October is 343765\n",
      "Mean ridership for October is 1200680\n",
      "Range for October is 1262575\n",
      "\n",
      "Maximum ridership for December is 1068610\n",
      "Minimum ridership for December is 214183\n",
      "Mean ridership for December is 766296\n",
      "Range for December is 854427\n",
      "\n",
      "Maximum ridership for February is 1582330\n",
      "Minimum ridership for February is 318071\n",
      "Mean ridership for February is 1181454\n",
      "Range for February is 1264259\n",
      "\n",
      "Maximum ridership for Total is 13551784.0\n",
      "Minimum ridership for Total is 3480360.0\n",
      "Mean ridership for Total is 10183726\n",
      "Range for Total is 10071424\n",
      "\n"
     ]
    }
   ],
   "source": [
    "finalized = temp #we will be analyzing the basic statistics using this dataframe\n",
    "\n",
    "#########Ridership Analysis in further detail\n",
    "for i in finalized.columns:\n",
    "    print('Maximum ridership for',i,'is',finalized[i].max())\n",
    "    print('Minimum ridership for',i,'is',finalized[i].min())\n",
    "    print('Mean ridership for',i,'is',int(finalized[i].mean()))\n",
    "    print('Range for',i,'is',int(finalized[i].max() - finalized[i].min()))\n",
    "    print()"
   ]
  },
  {
   "cell_type": "markdown",
   "id": "0e4b4f0f",
   "metadata": {},
   "source": [
    "# 02. Machine Learning Dataset Training Part"
   ]
  },
  {
   "cell_type": "code",
   "execution_count": 17,
   "id": "f76bf967",
   "metadata": {},
   "outputs": [
    {
     "name": "stdout",
     "output_type": "stream",
     "text": [
      "(20, 1)\n",
      "(6, 1)\n"
     ]
    }
   ],
   "source": [
    "#Time to do some Machine Learning\n",
    "# First train the July Dataset\n",
    "data_training = pd.DataFrame(df['July'][0:int(len(df)*0.8)])  #train 80% of data\n",
    "data_testing = pd.DataFrame(df['July'][int(len(df)*0.8):int(len(df))]) #test 20% of data\n",
    "\n",
    "print(data_training.shape)\n",
    "print(data_testing.shape)"
   ]
  },
  {
   "cell_type": "code",
   "execution_count": 21,
   "id": "219a8c9c",
   "metadata": {},
   "outputs": [],
   "source": [
    "from sklearn.preprocessing import MinMaxScaler\n",
    "scaler = MinMaxScaler(feature_range=(0,1))"
   ]
  },
  {
   "cell_type": "code",
   "execution_count": 28,
   "id": "75571e0b",
   "metadata": {},
   "outputs": [
    {
     "data": {
      "text/plain": [
       "(20, 1)"
      ]
     },
     "execution_count": 28,
     "metadata": {},
     "output_type": "execute_result"
    }
   ],
   "source": [
    "data_training_arr = scaler.fit_transform(data_training)\n",
    "data_training_arr.shape"
   ]
  },
  {
   "cell_type": "code",
   "execution_count": 35,
   "id": "32e39da5",
   "metadata": {},
   "outputs": [],
   "source": [
    "x_train = []\n",
    "y_train = []\n",
    "for i in range(5,data_training_arr.shape[0]):\n",
    "    x_train.append(data_training_arr[i-5:i])\n",
    "    y_train.append(data_training_arr[i,0]) #one columns\n",
    "\n",
    "x_train, y_train = np.array(x_train),np.array(y_train)"
   ]
  },
  {
   "cell_type": "code",
   "execution_count": 43,
   "id": "64f2f3a1",
   "metadata": {},
   "outputs": [],
   "source": [
    "#Time to model in machine learning\n",
    "import tensorflow as tf\n",
    "from tensorflow import keras\n",
    "from tensorflow.keras import layers\n",
    "from keras.layers import Dense, Dropout, LSTM\n",
    "from keras.models import Sequential"
   ]
  },
  {
   "cell_type": "code",
   "execution_count": 53,
   "id": "59cd9432",
   "metadata": {},
   "outputs": [],
   "source": [
    "model = Sequential()\n",
    "model.add(LSTM(units=50,activation='relu',return_sequences=True\n",
    "         , input_shape=(x_train.shape[1],1))) #closing columns\n",
    "\n",
    "model.add(Dropout(0.2))\n",
    "\n",
    "\n",
    "model.add(LSTM(units=60,activation='relu',return_sequences=True))\n",
    "model.add(Dropout(0.3))\n",
    "\n",
    "\n",
    "model.add(LSTM(units=60,activation='relu',return_sequences=True))\n",
    "model.add(Dropout(0.4))\n",
    "\n",
    "\n",
    "model.add(LSTM(units=60,activation='relu'))\n",
    "model.add(Dropout(0.5))\n",
    "\n",
    "model.add(Dense(units=1))"
   ]
  },
  {
   "cell_type": "code",
   "execution_count": 55,
   "id": "35584226",
   "metadata": {},
   "outputs": [
    {
     "data": {
      "text/plain": [
       "<bound method Model.summary of <keras.engine.sequential.Sequential object at 0x000002905BCE2D90>>"
      ]
     },
     "execution_count": 55,
     "metadata": {},
     "output_type": "execute_result"
    }
   ],
   "source": [
    "model.summary"
   ]
  },
  {
   "cell_type": "code",
   "execution_count": null,
   "id": "d9fb9eaa",
   "metadata": {},
   "outputs": [],
   "source": [
    "model.compile"
   ]
  }
 ],
 "metadata": {
  "kernelspec": {
   "display_name": "Python 3",
   "language": "python",
   "name": "python3"
  },
  "language_info": {
   "codemirror_mode": {
    "name": "ipython",
    "version": 3
   },
   "file_extension": ".py",
   "mimetype": "text/x-python",
   "name": "python",
   "nbconvert_exporter": "python",
   "pygments_lexer": "ipython3",
   "version": "3.8.8"
  }
 },
 "nbformat": 4,
 "nbformat_minor": 5
}
