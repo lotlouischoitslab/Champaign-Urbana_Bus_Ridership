{
 "cells": [
  {
   "cell_type": "markdown",
   "id": "898b77e4",
   "metadata": {},
   "source": [
    "# 01. Ridership Trend Analysis"
   ]
  },
  {
   "cell_type": "code",
   "execution_count": 4,
   "id": "dff45678",
   "metadata": {},
   "outputs": [],
   "source": [
    "import numpy as np\n",
    "import numpy.linalg as la\n",
    "import matplotlib.pyplot as plt\n",
    "import pandas as pd\n",
    "%matplotlib inline"
   ]
  },
  {
   "cell_type": "code",
   "execution_count": 5,
   "id": "b7058321",
   "metadata": {},
   "outputs": [
    {
     "data": {
      "text/html": [
       "<div>\n",
       "<style scoped>\n",
       "    .dataframe tbody tr th:only-of-type {\n",
       "        vertical-align: middle;\n",
       "    }\n",
       "\n",
       "    .dataframe tbody tr th {\n",
       "        vertical-align: top;\n",
       "    }\n",
       "\n",
       "    .dataframe thead th {\n",
       "        text-align: right;\n",
       "    }\n",
       "</style>\n",
       "<table border=\"1\" class=\"dataframe\">\n",
       "  <thead>\n",
       "    <tr style=\"text-align: right;\">\n",
       "      <th></th>\n",
       "      <th>July</th>\n",
       "      <th>October</th>\n",
       "      <th>December</th>\n",
       "      <th>February</th>\n",
       "      <th>Total</th>\n",
       "    </tr>\n",
       "  </thead>\n",
       "  <tbody>\n",
       "    <tr>\n",
       "      <th>count</th>\n",
       "      <td>26.000000</td>\n",
       "      <td>2.600000e+01</td>\n",
       "      <td>2.600000e+01</td>\n",
       "      <td>2.600000e+01</td>\n",
       "      <td>2.500000e+01</td>\n",
       "    </tr>\n",
       "    <tr>\n",
       "      <th>mean</th>\n",
       "      <td>353758.269231</td>\n",
       "      <td>1.200681e+06</td>\n",
       "      <td>7.662968e+05</td>\n",
       "      <td>1.181454e+06</td>\n",
       "      <td>1.018373e+07</td>\n",
       "    </tr>\n",
       "    <tr>\n",
       "      <th>std</th>\n",
       "      <td>80252.448764</td>\n",
       "      <td>2.425953e+05</td>\n",
       "      <td>1.791262e+05</td>\n",
       "      <td>2.563263e+05</td>\n",
       "      <td>2.005362e+06</td>\n",
       "    </tr>\n",
       "    <tr>\n",
       "      <th>min</th>\n",
       "      <td>226004.000000</td>\n",
       "      <td>3.437650e+05</td>\n",
       "      <td>2.141830e+05</td>\n",
       "      <td>3.180710e+05</td>\n",
       "      <td>3.480360e+06</td>\n",
       "    </tr>\n",
       "    <tr>\n",
       "      <th>25%</th>\n",
       "      <td>289194.000000</td>\n",
       "      <td>1.130592e+06</td>\n",
       "      <td>6.893980e+05</td>\n",
       "      <td>1.122582e+06</td>\n",
       "      <td>9.365436e+06</td>\n",
       "    </tr>\n",
       "    <tr>\n",
       "      <th>50%</th>\n",
       "      <td>339788.500000</td>\n",
       "      <td>1.209716e+06</td>\n",
       "      <td>7.923785e+05</td>\n",
       "      <td>1.171838e+06</td>\n",
       "      <td>1.010266e+07</td>\n",
       "    </tr>\n",
       "    <tr>\n",
       "      <th>75%</th>\n",
       "      <td>412077.750000</td>\n",
       "      <td>1.337396e+06</td>\n",
       "      <td>8.695310e+05</td>\n",
       "      <td>1.325072e+06</td>\n",
       "      <td>1.152838e+07</td>\n",
       "    </tr>\n",
       "    <tr>\n",
       "      <th>max</th>\n",
       "      <td>524178.000000</td>\n",
       "      <td>1.606340e+06</td>\n",
       "      <td>1.068610e+06</td>\n",
       "      <td>1.582330e+06</td>\n",
       "      <td>1.355178e+07</td>\n",
       "    </tr>\n",
       "  </tbody>\n",
       "</table>\n",
       "</div>"
      ],
      "text/plain": [
       "                July       October      December      February         Total\n",
       "count      26.000000  2.600000e+01  2.600000e+01  2.600000e+01  2.500000e+01\n",
       "mean   353758.269231  1.200681e+06  7.662968e+05  1.181454e+06  1.018373e+07\n",
       "std     80252.448764  2.425953e+05  1.791262e+05  2.563263e+05  2.005362e+06\n",
       "min    226004.000000  3.437650e+05  2.141830e+05  3.180710e+05  3.480360e+06\n",
       "25%    289194.000000  1.130592e+06  6.893980e+05  1.122582e+06  9.365436e+06\n",
       "50%    339788.500000  1.209716e+06  7.923785e+05  1.171838e+06  1.010266e+07\n",
       "75%    412077.750000  1.337396e+06  8.695310e+05  1.325072e+06  1.152838e+07\n",
       "max    524178.000000  1.606340e+06  1.068610e+06  1.582330e+06  1.355178e+07"
      ]
     },
     "execution_count": 5,
     "metadata": {},
     "output_type": "execute_result"
    }
   ],
   "source": [
    "df = pd.read_csv('transit-ridership.csv') #First read all the data from the csv file\n",
    "df= df.rename(columns={'Unnamed: 0': 'Year'}) #Rename the unnamed column title to 'Year'\n",
    "for i in df.columns: #for each column\n",
    "    df[i] = df[i].replace(\",\", \"\", regex=True) #remove all the commas in between each values\n",
    "df = df._convert(numeric=True) #convert the elements to numeric values\n",
    "df.describe()"
   ]
  },
  {
   "cell_type": "code",
   "execution_count": 6,
   "id": "767b6fc1",
   "metadata": {},
   "outputs": [
    {
     "data": {
      "text/html": [
       "<div>\n",
       "<style scoped>\n",
       "    .dataframe tbody tr th:only-of-type {\n",
       "        vertical-align: middle;\n",
       "    }\n",
       "\n",
       "    .dataframe tbody tr th {\n",
       "        vertical-align: top;\n",
       "    }\n",
       "\n",
       "    .dataframe thead th {\n",
       "        text-align: right;\n",
       "    }\n",
       "</style>\n",
       "<table border=\"1\" class=\"dataframe\">\n",
       "  <thead>\n",
       "    <tr style=\"text-align: right;\">\n",
       "      <th></th>\n",
       "      <th>Year</th>\n",
       "      <th>July</th>\n",
       "      <th>October</th>\n",
       "      <th>December</th>\n",
       "      <th>February</th>\n",
       "      <th>Total</th>\n",
       "    </tr>\n",
       "  </thead>\n",
       "  <tbody>\n",
       "    <tr>\n",
       "      <th>0</th>\n",
       "      <td>1997</td>\n",
       "      <td>287136</td>\n",
       "      <td>1052714</td>\n",
       "      <td>807508</td>\n",
       "      <td>1157678</td>\n",
       "      <td>9501302.0</td>\n",
       "    </tr>\n",
       "    <tr>\n",
       "      <th>1</th>\n",
       "      <td>1998</td>\n",
       "      <td>289269</td>\n",
       "      <td>1142300</td>\n",
       "      <td>753231</td>\n",
       "      <td>982453</td>\n",
       "      <td>8670906.0</td>\n",
       "    </tr>\n",
       "    <tr>\n",
       "      <th>2</th>\n",
       "      <td>1999</td>\n",
       "      <td>281914</td>\n",
       "      <td>1055683</td>\n",
       "      <td>673696</td>\n",
       "      <td>1006772</td>\n",
       "      <td>8628101.0</td>\n",
       "    </tr>\n",
       "    <tr>\n",
       "      <th>3</th>\n",
       "      <td>2000</td>\n",
       "      <td>297848</td>\n",
       "      <td>1060153</td>\n",
       "      <td>650067</td>\n",
       "      <td>1091131</td>\n",
       "      <td>8800655.0</td>\n",
       "    </tr>\n",
       "    <tr>\n",
       "      <th>4</th>\n",
       "      <td>2001</td>\n",
       "      <td>270213</td>\n",
       "      <td>1085119</td>\n",
       "      <td>825356</td>\n",
       "      <td>1159928</td>\n",
       "      <td>10102665.0</td>\n",
       "    </tr>\n",
       "    <tr>\n",
       "      <th>5</th>\n",
       "      <td>2002</td>\n",
       "      <td>286552</td>\n",
       "      <td>1227976</td>\n",
       "      <td>524747</td>\n",
       "      <td>1118989</td>\n",
       "      <td>9084277.0</td>\n",
       "    </tr>\n",
       "    <tr>\n",
       "      <th>6</th>\n",
       "      <td>2003</td>\n",
       "      <td>311041</td>\n",
       "      <td>1169216</td>\n",
       "      <td>787201</td>\n",
       "      <td>1133363</td>\n",
       "      <td>9369218.0</td>\n",
       "    </tr>\n",
       "    <tr>\n",
       "      <th>7</th>\n",
       "      <td>2004</td>\n",
       "      <td>338494</td>\n",
       "      <td>1305943</td>\n",
       "      <td>813161</td>\n",
       "      <td>1154057</td>\n",
       "      <td>10435923.0</td>\n",
       "    </tr>\n",
       "    <tr>\n",
       "      <th>8</th>\n",
       "      <td>2005</td>\n",
       "      <td>341083</td>\n",
       "      <td>1217625</td>\n",
       "      <td>739941</td>\n",
       "      <td>1200637</td>\n",
       "      <td>10136585.0</td>\n",
       "    </tr>\n",
       "    <tr>\n",
       "      <th>9</th>\n",
       "      <td>2006</td>\n",
       "      <td>289169</td>\n",
       "      <td>1135129</td>\n",
       "      <td>736504</td>\n",
       "      <td>1167974</td>\n",
       "      <td>9958497.0</td>\n",
       "    </tr>\n",
       "    <tr>\n",
       "      <th>10</th>\n",
       "      <td>2007</td>\n",
       "      <td>306992</td>\n",
       "      <td>1219370</td>\n",
       "      <td>663304</td>\n",
       "      <td>1007102</td>\n",
       "      <td>9464314.0</td>\n",
       "    </tr>\n",
       "    <tr>\n",
       "      <th>11</th>\n",
       "      <td>2008</td>\n",
       "      <td>301446</td>\n",
       "      <td>1129080</td>\n",
       "      <td>563233</td>\n",
       "      <td>1146354</td>\n",
       "      <td>9365436.0</td>\n",
       "    </tr>\n",
       "    <tr>\n",
       "      <th>12</th>\n",
       "      <td>2009</td>\n",
       "      <td>365289</td>\n",
       "      <td>1178063</td>\n",
       "      <td>798794</td>\n",
       "      <td>1175703</td>\n",
       "      <td>9919993.0</td>\n",
       "    </tr>\n",
       "    <tr>\n",
       "      <th>13</th>\n",
       "      <td>2010</td>\n",
       "      <td>342639</td>\n",
       "      <td>1188246</td>\n",
       "      <td>777198</td>\n",
       "      <td>1246451</td>\n",
       "      <td>10134192.0</td>\n",
       "    </tr>\n",
       "    <tr>\n",
       "      <th>14</th>\n",
       "      <td>2011</td>\n",
       "      <td>387210</td>\n",
       "      <td>1201806</td>\n",
       "      <td>797556</td>\n",
       "      <td>1177828</td>\n",
       "      <td>10549120.0</td>\n",
       "    </tr>\n",
       "    <tr>\n",
       "      <th>15</th>\n",
       "      <td>2012</td>\n",
       "      <td>401883</td>\n",
       "      <td>1254804</td>\n",
       "      <td>777617</td>\n",
       "      <td>1305142</td>\n",
       "      <td>11107631.0</td>\n",
       "    </tr>\n",
       "    <tr>\n",
       "      <th>16</th>\n",
       "      <td>2013</td>\n",
       "      <td>447178</td>\n",
       "      <td>1391576</td>\n",
       "      <td>887209</td>\n",
       "      <td>1374653</td>\n",
       "      <td>12028172.0</td>\n",
       "    </tr>\n",
       "    <tr>\n",
       "      <th>17</th>\n",
       "      <td>2014</td>\n",
       "      <td>487363</td>\n",
       "      <td>1538309</td>\n",
       "      <td>1044064</td>\n",
       "      <td>1582330</td>\n",
       "      <td>13309332.0</td>\n",
       "    </tr>\n",
       "    <tr>\n",
       "      <th>18</th>\n",
       "      <td>2015</td>\n",
       "      <td>524178</td>\n",
       "      <td>1606340</td>\n",
       "      <td>1068610</td>\n",
       "      <td>1576687</td>\n",
       "      <td>13551784.0</td>\n",
       "    </tr>\n",
       "    <tr>\n",
       "      <th>19</th>\n",
       "      <td>2016</td>\n",
       "      <td>503481</td>\n",
       "      <td>1478275</td>\n",
       "      <td>949030</td>\n",
       "      <td>1537540</td>\n",
       "      <td>12770520.0</td>\n",
       "    </tr>\n",
       "    <tr>\n",
       "      <th>20</th>\n",
       "      <td>2017</td>\n",
       "      <td>424915</td>\n",
       "      <td>1380990</td>\n",
       "      <td>857837</td>\n",
       "      <td>1251352</td>\n",
       "      <td>12099043.0</td>\n",
       "    </tr>\n",
       "    <tr>\n",
       "      <th>21</th>\n",
       "      <td>2018</td>\n",
       "      <td>389398</td>\n",
       "      <td>1310380</td>\n",
       "      <td>917782</td>\n",
       "      <td>1375553</td>\n",
       "      <td>11528385.0</td>\n",
       "    </tr>\n",
       "    <tr>\n",
       "      <th>22</th>\n",
       "      <td>2019</td>\n",
       "      <td>415476</td>\n",
       "      <td>1375516</td>\n",
       "      <td>920718</td>\n",
       "      <td>1375560</td>\n",
       "      <td>11629163.0</td>\n",
       "    </tr>\n",
       "    <tr>\n",
       "      <th>23</th>\n",
       "      <td>2020</td>\n",
       "      <td>420729</td>\n",
       "      <td>1346402</td>\n",
       "      <td>873429</td>\n",
       "      <td>1331716</td>\n",
       "      <td>8967585.0</td>\n",
       "    </tr>\n",
       "    <tr>\n",
       "      <th>24</th>\n",
       "      <td>2021</td>\n",
       "      <td>226004</td>\n",
       "      <td>343765</td>\n",
       "      <td>214183</td>\n",
       "      <td>318071</td>\n",
       "      <td>3480360.0</td>\n",
       "    </tr>\n",
       "  </tbody>\n",
       "</table>\n",
       "</div>"
      ],
      "text/plain": [
       "    Year    July  October  December  February       Total\n",
       "0   1997  287136  1052714    807508   1157678   9501302.0\n",
       "1   1998  289269  1142300    753231    982453   8670906.0\n",
       "2   1999  281914  1055683    673696   1006772   8628101.0\n",
       "3   2000  297848  1060153    650067   1091131   8800655.0\n",
       "4   2001  270213  1085119    825356   1159928  10102665.0\n",
       "5   2002  286552  1227976    524747   1118989   9084277.0\n",
       "6   2003  311041  1169216    787201   1133363   9369218.0\n",
       "7   2004  338494  1305943    813161   1154057  10435923.0\n",
       "8   2005  341083  1217625    739941   1200637  10136585.0\n",
       "9   2006  289169  1135129    736504   1167974   9958497.0\n",
       "10  2007  306992  1219370    663304   1007102   9464314.0\n",
       "11  2008  301446  1129080    563233   1146354   9365436.0\n",
       "12  2009  365289  1178063    798794   1175703   9919993.0\n",
       "13  2010  342639  1188246    777198   1246451  10134192.0\n",
       "14  2011  387210  1201806    797556   1177828  10549120.0\n",
       "15  2012  401883  1254804    777617   1305142  11107631.0\n",
       "16  2013  447178  1391576    887209   1374653  12028172.0\n",
       "17  2014  487363  1538309   1044064   1582330  13309332.0\n",
       "18  2015  524178  1606340   1068610   1576687  13551784.0\n",
       "19  2016  503481  1478275    949030   1537540  12770520.0\n",
       "20  2017  424915  1380990    857837   1251352  12099043.0\n",
       "21  2018  389398  1310380    917782   1375553  11528385.0\n",
       "22  2019  415476  1375516    920718   1375560  11629163.0\n",
       "23  2020  420729  1346402    873429   1331716   8967585.0\n",
       "24  2021  226004   343765    214183    318071   3480360.0"
      ]
     },
     "execution_count": 6,
     "metadata": {},
     "output_type": "execute_result"
    }
   ],
   "source": [
    "#Eliminating null values \n",
    "#To do so, if we find a null, we are going to replace them with the mean of the column\n",
    "count = 1997\n",
    "total = len(df[i])\n",
    "for i in df.columns:\n",
    "    if i == 'Year':\n",
    "        df[i] = np.array([x for x in range(count,count+total)])\n",
    "\n",
    "df = df.dropna(axis=0) #we are going to drop NaN values for conveinience\n",
    "df #JUST FOR CHECKING"
   ]
  },
  {
   "cell_type": "code",
   "execution_count": 7,
   "id": "f9905a16",
   "metadata": {},
   "outputs": [
    {
     "data": {
      "text/plain": [
       "<matplotlib.legend.Legend at 0x29acc7e5b50>"
      ]
     },
     "execution_count": 7,
     "metadata": {},
     "output_type": "execute_result"
    },
    {
     "data": {
      "image/png": "[encoded data removed]",
      "text/plain": [
       "<Figure size 1008x432 with 1 Axes>"
      ]
     },
     "metadata": {
      "needs_background": "light"
     },
     "output_type": "display_data"
    }
   ],
   "source": [
    "#### Now we are going to plot the graph using matplotlib to visualize our data input\n",
    "x = df['Year'] #x-axis is going to be our year\n",
    "figure = plt.figure(figsize=(14,6)) #adjust the figure size\n",
    "plt.title('Champaign-Urbana Mass Transit Annual Bus Ridership',fontweight='bold',fontsize=15) #add the title\n",
    "plt.grid() #add the grid\n",
    "plt.xlabel('Year',fontsize=15) #add the x-axis label\n",
    "plt.ylabel('Passenger Ridership',fontsize=15) #add the y-axis label\n",
    "temp = df.drop('Year',axis=1) #Just drop the year column because we are not going to use that for our data analytics\n",
    "for i in temp.columns: #Now for each column in our python dataframe column\n",
    "    plt.scatter(x,temp[i]) #I want to keep plotting\n",
    "    \n",
    "plt.legend(temp) #Don't forget to add the legend"
   ]
  },
  {
   "cell_type": "code",
   "execution_count": 8,
   "id": "5d63eb31",
   "metadata": {},
   "outputs": [
    {
     "data": {
      "text/plain": [
       "Text(0.5, 1.0, 'Passenger Ridership vs Months')"
      ]
     },
     "execution_count": 8,
     "metadata": {},
     "output_type": "execute_result"
    },
    {
     "data": {
      "image/png": "[encoded data removed]",
      "text/plain": [
       "<Figure size 864x432 with 1 Axes>"
      ]
     },
     "metadata": {
      "needs_background": "light"
     },
     "output_type": "display_data"
    }
   ],
   "source": [
    "months1 = df.drop('Year',axis=1)\n",
    "months = months1.drop('Total',axis=1)\n",
    "plt.figure(figsize=(12,6))\n",
    "for i in months.columns:\n",
    "    plt.scatter(x,months[i])\n",
    "plt.legend(months)\n",
    "plt.xlabel('Years')\n",
    "plt.ylabel('Passenger Ridership')\n",
    "plt.title('Passenger Ridership vs Months')"
   ]
  },
  {
   "cell_type": "markdown",
   "id": "bf323cab",
   "metadata": {},
   "source": [
    "# 02. Machine Learning and Dataset Training"
   ]
  },
  {
   "cell_type": "code",
   "execution_count": 9,
   "id": "c3af3548",
   "metadata": {},
   "outputs": [],
   "source": [
    "from sklearn.linear_model import LinearRegression\n",
    "from sklearn.preprocessing import scale"
   ]
  },
  {
   "cell_type": "markdown",
   "id": "7222b8be",
   "metadata": {},
   "source": [
    "### Decision Tree "
   ]
  },
  {
   "cell_type": "code",
   "execution_count": 10,
   "id": "2355f5b2",
   "metadata": {},
   "outputs": [],
   "source": [
    "from sklearn.tree import DecisionTreeRegressor\n",
    "from sklearn.metrics import mean_absolute_error\n",
    "from sklearn.model_selection import train_test_split"
   ]
  },
  {
   "cell_type": "code",
   "execution_count": 11,
   "id": "ac17f88f",
   "metadata": {},
   "outputs": [
    {
     "data": {
      "text/plain": [
       "0.0"
      ]
     },
     "execution_count": 11,
     "metadata": {},
     "output_type": "execute_result"
    }
   ],
   "source": [
    "y_feat = df.Total #The total is going to be the y-axis\n",
    "featured_axis = ['Year','July','October','December','February'] #The featured axis are the months\n",
    "x_feat = df[featured_axis] #The featured axis will be stored into the x featured\n",
    "\n",
    "##############Dataset Training############\n",
    "pass_decision_model = DecisionTreeRegressor() #DecisionTreeRegressor is called\n",
    "pass_decision_model.fit(x_feat, y_feat) #Model is fitted accordingly\n",
    "predicted_decision_pass = pass_decision_model.predict(x_feat) #Prediction is made\n",
    "mean_absolute_error(y_feat, predicted_decision_pass) #MAE value of 0 means perfect model"
   ]
  },
  {
   "cell_type": "code",
   "execution_count": 12,
   "id": "530c365f",
   "metadata": {},
   "outputs": [
    {
     "name": "stdout",
     "output_type": "stream",
     "text": [
      "407370.5714285714\n"
     ]
    }
   ],
   "source": [
    "train_x, val_x, train_y, val_y = train_test_split(x_feat, y_feat, random_state = 0)\n",
    "# Define the model using DecisionTreeRegressor\n",
    "pass_decision_model2 = DecisionTreeRegressor()\n",
    "# Fit the model with trained x dataset and y dataset\n",
    "pass_decision_model2.fit(train_x, train_y)\n",
    "\n",
    "# Approximate predicted passenger ridership on validation data\n",
    "val_predict = pass_decision_model2.predict(val_x)\n",
    "print(mean_absolute_error(val_y, val_predict)) #maybe not the best model"
   ]
  },
  {
   "cell_type": "markdown",
   "id": "2c91cc09",
   "metadata": {},
   "source": [
    "### Random Forest "
   ]
  },
  {
   "cell_type": "code",
   "execution_count": 13,
   "id": "8d637b1b",
   "metadata": {},
   "outputs": [
    {
     "name": "stdout",
     "output_type": "stream",
     "text": [
      "350535.9885714283\n"
     ]
    }
   ],
   "source": [
    "from sklearn.ensemble import RandomForestRegressor\n",
    "from sklearn.metrics import mean_absolute_error\n",
    "\n",
    "pass_forest_model = RandomForestRegressor(random_state=1)\n",
    "pass_forest_model.fit(train_x, train_y)\n",
    "pass_forest_preds = pass_forest_model.predict(val_x)\n",
    "print(mean_absolute_error(val_y, pass_forest_preds))"
   ]
  },
  {
   "cell_type": "markdown",
   "id": "231c56c5",
   "metadata": {},
   "source": [
    "# 04. Time Series Forecasting "
   ]
  },
  {
   "cell_type": "code",
   "execution_count": 14,
   "id": "13c3577f",
   "metadata": {},
   "outputs": [],
   "source": [
    "plt.rc(\"figure\", autolayout=True, figsize=(12, 6))\n",
    "plt.rc(\n",
    "    \"axes\",\n",
    "    labelweight=\"bold\",\n",
    "    labelsize=\"large\",\n",
    "    titleweight=\"bold\",\n",
    "    titlesize = 17,\n",
    "    titlepad = 10,\n",
    "    grid = True\n",
    ")\n",
    "\n",
    "plot_params = dict(\n",
    "    color = 'r',\n",
    "    style = '.',\n",
    "    markeredgecolor = '0.5',\n",
    "    markerfacecolor = '0.5',\n",
    "    legend = True\n",
    ")\n"
   ]
  },
  {
   "cell_type": "code",
   "execution_count": 15,
   "id": "09fd9203",
   "metadata": {},
   "outputs": [
    {
     "data": {
      "text/plain": [
       "<matplotlib.legend.Legend at 0x29acd48e6d0>"
      ]
     },
     "execution_count": 15,
     "metadata": {},
     "output_type": "execute_result"
    },
    {
     "data": {
      "image/png": "[encoded data removed]",
      "text/plain": [
       "<Figure size 864x432 with 1 Axes>"
      ]
     },
     "metadata": {
      "needs_background": "light"
     },
     "output_type": "display_data"
    }
   ],
   "source": [
    "from sklearn.linear_model import LinearRegression\n",
    "\n",
    "xt = df.loc[:,['Year']] #first get the years\n",
    "yt = df.loc[:,'July'] #then get the feature (July)\n",
    "\n",
    "lin_model = LinearRegression()\n",
    "lin_model.fit(xt,yt)\n",
    "yt_pred = pd.Series(lin_model.predict(xt), index=xt.index)\n",
    "\n",
    "ax = yt.plot(**plot_params)\n",
    "ax = yt_pred.plot(linewidth=3,label='Trend')\n",
    "ax.set_title('Time Plot for CUMTD Bus Ridership')\n",
    "ax.set_xlabel('Years')\n",
    "ax.set_ylabel('CUMTD Bus Ridership')\n",
    "ax.legend()"
   ]
  },
  {
   "cell_type": "code",
   "execution_count": null,
   "id": "cc307689",
   "metadata": {},
   "outputs": [],
   "source": []
  }
 ],
 "metadata": {
  "kernelspec": {
   "display_name": "Python 3 (ipykernel)",
   "language": "python",
   "name": "python3"
  },
  "language_info": {
   "codemirror_mode": {
    "name": "ipython",
    "version": 3
   },
   "file_extension": ".py",
   "mimetype": "text/x-python",
   "name": "python",
   "nbconvert_exporter": "python",
   "pygments_lexer": "ipython3",
   "version": "3.9.12"
  }
 },
 "nbformat": 4,
 "nbformat_minor": 5
}
