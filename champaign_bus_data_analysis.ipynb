{
 "cells": [
  {
   "cell_type": "markdown",
   "id": "898b77e4",
   "metadata": {},
   "source": [
    "# 01. Data Analytics Part"
   ]
  },
  {
   "cell_type": "code",
   "execution_count": 1,
   "id": "dff45678",
   "metadata": {},
   "outputs": [],
   "source": [
    "import numpy as np\n",
    "import numpy.linalg as la\n",
    "import matplotlib.pyplot as plt\n",
    "import pandas as pd\n",
    "import pandas_datareader as data\n",
    "%matplotlib inline"
   ]
  },
  {
   "cell_type": "code",
   "execution_count": 2,
   "id": "fb5d1b9f",
   "metadata": {},
   "outputs": [],
   "source": [
    "df = pd.read_csv('transit-ridership.csv') #First read all the data from the csv file\n",
    "df= df.rename(columns={'Unnamed: 0': 'Year'}) #Rename the unnamed column title to 'Year'\n",
    "for i in df.columns: #for each column\n",
    "    df[i] = df[i].replace(\",\", \"\", regex=True) #remove all the commas in between each values\n",
    "df = df._convert(numeric=True) #convert the elements to numeric values"
   ]
  },
  {
   "cell_type": "code",
   "execution_count": 3,
   "id": "767b6fc1",
   "metadata": {},
   "outputs": [
    {
     "data": {
      "text/html": [
       "<div>\n",
       "<style scoped>\n",
       "    .dataframe tbody tr th:only-of-type {\n",
       "        vertical-align: middle;\n",
       "    }\n",
       "\n",
       "    .dataframe tbody tr th {\n",
       "        vertical-align: top;\n",
       "    }\n",
       "\n",
       "    .dataframe thead th {\n",
       "        text-align: right;\n",
       "    }\n",
       "</style>\n",
       "<table border=\"1\" class=\"dataframe\">\n",
       "  <thead>\n",
       "    <tr style=\"text-align: right;\">\n",
       "      <th></th>\n",
       "      <th>Year</th>\n",
       "      <th>July</th>\n",
       "      <th>October</th>\n",
       "      <th>December</th>\n",
       "      <th>February</th>\n",
       "      <th>Total</th>\n",
       "    </tr>\n",
       "  </thead>\n",
       "  <tbody>\n",
       "    <tr>\n",
       "      <th>0</th>\n",
       "      <td>1997</td>\n",
       "      <td>287136</td>\n",
       "      <td>1052714</td>\n",
       "      <td>807508</td>\n",
       "      <td>1157678</td>\n",
       "      <td>9501302.0</td>\n",
       "    </tr>\n",
       "    <tr>\n",
       "      <th>1</th>\n",
       "      <td>1998</td>\n",
       "      <td>289269</td>\n",
       "      <td>1142300</td>\n",
       "      <td>753231</td>\n",
       "      <td>982453</td>\n",
       "      <td>8670906.0</td>\n",
       "    </tr>\n",
       "    <tr>\n",
       "      <th>2</th>\n",
       "      <td>1999</td>\n",
       "      <td>281914</td>\n",
       "      <td>1055683</td>\n",
       "      <td>673696</td>\n",
       "      <td>1006772</td>\n",
       "      <td>8628101.0</td>\n",
       "    </tr>\n",
       "    <tr>\n",
       "      <th>3</th>\n",
       "      <td>2000</td>\n",
       "      <td>297848</td>\n",
       "      <td>1060153</td>\n",
       "      <td>650067</td>\n",
       "      <td>1091131</td>\n",
       "      <td>8800655.0</td>\n",
       "    </tr>\n",
       "    <tr>\n",
       "      <th>4</th>\n",
       "      <td>2001</td>\n",
       "      <td>270213</td>\n",
       "      <td>1085119</td>\n",
       "      <td>825356</td>\n",
       "      <td>1159928</td>\n",
       "      <td>10102665.0</td>\n",
       "    </tr>\n",
       "    <tr>\n",
       "      <th>5</th>\n",
       "      <td>2002</td>\n",
       "      <td>286552</td>\n",
       "      <td>1227976</td>\n",
       "      <td>524747</td>\n",
       "      <td>1118989</td>\n",
       "      <td>9084277.0</td>\n",
       "    </tr>\n",
       "    <tr>\n",
       "      <th>6</th>\n",
       "      <td>2003</td>\n",
       "      <td>311041</td>\n",
       "      <td>1169216</td>\n",
       "      <td>787201</td>\n",
       "      <td>1133363</td>\n",
       "      <td>9369218.0</td>\n",
       "    </tr>\n",
       "    <tr>\n",
       "      <th>7</th>\n",
       "      <td>2004</td>\n",
       "      <td>338494</td>\n",
       "      <td>1305943</td>\n",
       "      <td>813161</td>\n",
       "      <td>1154057</td>\n",
       "      <td>10435923.0</td>\n",
       "    </tr>\n",
       "    <tr>\n",
       "      <th>8</th>\n",
       "      <td>2005</td>\n",
       "      <td>341083</td>\n",
       "      <td>1217625</td>\n",
       "      <td>739941</td>\n",
       "      <td>1200637</td>\n",
       "      <td>10136585.0</td>\n",
       "    </tr>\n",
       "    <tr>\n",
       "      <th>9</th>\n",
       "      <td>2006</td>\n",
       "      <td>289169</td>\n",
       "      <td>1135129</td>\n",
       "      <td>736504</td>\n",
       "      <td>1167974</td>\n",
       "      <td>9958497.0</td>\n",
       "    </tr>\n",
       "    <tr>\n",
       "      <th>10</th>\n",
       "      <td>2007</td>\n",
       "      <td>306992</td>\n",
       "      <td>1219370</td>\n",
       "      <td>663304</td>\n",
       "      <td>1007102</td>\n",
       "      <td>9464314.0</td>\n",
       "    </tr>\n",
       "    <tr>\n",
       "      <th>11</th>\n",
       "      <td>2008</td>\n",
       "      <td>301446</td>\n",
       "      <td>1129080</td>\n",
       "      <td>563233</td>\n",
       "      <td>1146354</td>\n",
       "      <td>9365436.0</td>\n",
       "    </tr>\n",
       "    <tr>\n",
       "      <th>12</th>\n",
       "      <td>2009</td>\n",
       "      <td>365289</td>\n",
       "      <td>1178063</td>\n",
       "      <td>798794</td>\n",
       "      <td>1175703</td>\n",
       "      <td>9919993.0</td>\n",
       "    </tr>\n",
       "    <tr>\n",
       "      <th>13</th>\n",
       "      <td>2010</td>\n",
       "      <td>342639</td>\n",
       "      <td>1188246</td>\n",
       "      <td>777198</td>\n",
       "      <td>1246451</td>\n",
       "      <td>10134192.0</td>\n",
       "    </tr>\n",
       "    <tr>\n",
       "      <th>14</th>\n",
       "      <td>2011</td>\n",
       "      <td>387210</td>\n",
       "      <td>1201806</td>\n",
       "      <td>797556</td>\n",
       "      <td>1177828</td>\n",
       "      <td>10549120.0</td>\n",
       "    </tr>\n",
       "    <tr>\n",
       "      <th>15</th>\n",
       "      <td>2012</td>\n",
       "      <td>401883</td>\n",
       "      <td>1254804</td>\n",
       "      <td>777617</td>\n",
       "      <td>1305142</td>\n",
       "      <td>11107631.0</td>\n",
       "    </tr>\n",
       "    <tr>\n",
       "      <th>16</th>\n",
       "      <td>2013</td>\n",
       "      <td>447178</td>\n",
       "      <td>1391576</td>\n",
       "      <td>887209</td>\n",
       "      <td>1374653</td>\n",
       "      <td>12028172.0</td>\n",
       "    </tr>\n",
       "    <tr>\n",
       "      <th>17</th>\n",
       "      <td>2014</td>\n",
       "      <td>487363</td>\n",
       "      <td>1538309</td>\n",
       "      <td>1044064</td>\n",
       "      <td>1582330</td>\n",
       "      <td>13309332.0</td>\n",
       "    </tr>\n",
       "    <tr>\n",
       "      <th>18</th>\n",
       "      <td>2015</td>\n",
       "      <td>524178</td>\n",
       "      <td>1606340</td>\n",
       "      <td>1068610</td>\n",
       "      <td>1576687</td>\n",
       "      <td>13551784.0</td>\n",
       "    </tr>\n",
       "    <tr>\n",
       "      <th>19</th>\n",
       "      <td>2016</td>\n",
       "      <td>503481</td>\n",
       "      <td>1478275</td>\n",
       "      <td>949030</td>\n",
       "      <td>1537540</td>\n",
       "      <td>12770520.0</td>\n",
       "    </tr>\n",
       "    <tr>\n",
       "      <th>20</th>\n",
       "      <td>2017</td>\n",
       "      <td>424915</td>\n",
       "      <td>1380990</td>\n",
       "      <td>857837</td>\n",
       "      <td>1251352</td>\n",
       "      <td>12099043.0</td>\n",
       "    </tr>\n",
       "    <tr>\n",
       "      <th>21</th>\n",
       "      <td>2018</td>\n",
       "      <td>389398</td>\n",
       "      <td>1310380</td>\n",
       "      <td>917782</td>\n",
       "      <td>1375553</td>\n",
       "      <td>11528385.0</td>\n",
       "    </tr>\n",
       "    <tr>\n",
       "      <th>22</th>\n",
       "      <td>2019</td>\n",
       "      <td>415476</td>\n",
       "      <td>1375516</td>\n",
       "      <td>920718</td>\n",
       "      <td>1375560</td>\n",
       "      <td>11629163.0</td>\n",
       "    </tr>\n",
       "    <tr>\n",
       "      <th>23</th>\n",
       "      <td>2020</td>\n",
       "      <td>420729</td>\n",
       "      <td>1346402</td>\n",
       "      <td>873429</td>\n",
       "      <td>1331716</td>\n",
       "      <td>8967585.0</td>\n",
       "    </tr>\n",
       "    <tr>\n",
       "      <th>24</th>\n",
       "      <td>2021</td>\n",
       "      <td>226004</td>\n",
       "      <td>343765</td>\n",
       "      <td>214183</td>\n",
       "      <td>318071</td>\n",
       "      <td>3480360.0</td>\n",
       "    </tr>\n",
       "  </tbody>\n",
       "</table>\n",
       "</div>"
      ],
      "text/plain": [
       "    Year    July  October  December  February       Total\n",
       "0   1997  287136  1052714    807508   1157678   9501302.0\n",
       "1   1998  289269  1142300    753231    982453   8670906.0\n",
       "2   1999  281914  1055683    673696   1006772   8628101.0\n",
       "3   2000  297848  1060153    650067   1091131   8800655.0\n",
       "4   2001  270213  1085119    825356   1159928  10102665.0\n",
       "5   2002  286552  1227976    524747   1118989   9084277.0\n",
       "6   2003  311041  1169216    787201   1133363   9369218.0\n",
       "7   2004  338494  1305943    813161   1154057  10435923.0\n",
       "8   2005  341083  1217625    739941   1200637  10136585.0\n",
       "9   2006  289169  1135129    736504   1167974   9958497.0\n",
       "10  2007  306992  1219370    663304   1007102   9464314.0\n",
       "11  2008  301446  1129080    563233   1146354   9365436.0\n",
       "12  2009  365289  1178063    798794   1175703   9919993.0\n",
       "13  2010  342639  1188246    777198   1246451  10134192.0\n",
       "14  2011  387210  1201806    797556   1177828  10549120.0\n",
       "15  2012  401883  1254804    777617   1305142  11107631.0\n",
       "16  2013  447178  1391576    887209   1374653  12028172.0\n",
       "17  2014  487363  1538309   1044064   1582330  13309332.0\n",
       "18  2015  524178  1606340   1068610   1576687  13551784.0\n",
       "19  2016  503481  1478275    949030   1537540  12770520.0\n",
       "20  2017  424915  1380990    857837   1251352  12099043.0\n",
       "21  2018  389398  1310380    917782   1375553  11528385.0\n",
       "22  2019  415476  1375516    920718   1375560  11629163.0\n",
       "23  2020  420729  1346402    873429   1331716   8967585.0\n",
       "24  2021  226004   343765    214183    318071   3480360.0"
      ]
     },
     "execution_count": 3,
     "metadata": {},
     "output_type": "execute_result"
    }
   ],
   "source": [
    "#Eliminating null values \n",
    "#To do so, if we find a null, we are going to replace them with the mean of the column\n",
    "df = df[:-1]\n",
    "count = 1997\n",
    "total = len(df[i])\n",
    "for i in df.columns:\n",
    "    if i == 'Year':\n",
    "        df[i] = np.array([x for x in range(count,count+total)])\n",
    "        \n",
    "    else:\n",
    "        a = int(df[i].mean()) #replace all the NaN with the mean value of the column \n",
    "        df[i] = df[i].fillna(a) #populate the NaN ones with the mean\n",
    "\n",
    "df #JUST FOR CHECKING"
   ]
  },
  {
   "cell_type": "code",
   "execution_count": 4,
   "id": "f9905a16",
   "metadata": {},
   "outputs": [
    {
     "data": {
      "text/plain": [
       "<matplotlib.legend.Legend at 0x22dee824e20>"
      ]
     },
     "execution_count": 4,
     "metadata": {},
     "output_type": "execute_result"
    },
    {
     "data": {
      "image/png": "[encoded data removed]",
      "text/plain": [
       "<Figure size 1008x432 with 1 Axes>"
      ]
     },
     "metadata": {
      "needs_background": "light"
     },
     "output_type": "display_data"
    }
   ],
   "source": [
    "#### Now we are going to plot the graph using matplotlib to visualize our data input\n",
    "x = df['Year'] #x-axis is going to be our year\n",
    "figure = plt.figure(figsize=(14,6)) #adjust the figure size\n",
    "plt.title('Champaign-Urbana Mass Transit Annual Bus Ridership',fontweight='bold',fontsize=15) #add the title\n",
    "plt.grid() #add the grid\n",
    "plt.xlabel('Year',fontsize=15) #add the x-axis label\n",
    "plt.ylabel('Passenger Ridership',fontsize=15) #add the y-axis label\n",
    "temp = df.drop('Year',axis=1) #Just drop the year column because we are not going to use that for our data analytics\n",
    "for i in temp.columns: #Now for each column in our python dataframe column\n",
    "    plt.plot(x,temp[i]) #I want to keep plotting\n",
    "    \n",
    "plt.legend(temp) #Don't forget to add the legend"
   ]
  },
  {
   "cell_type": "code",
   "execution_count": 5,
   "id": "31234a7a",
   "metadata": {},
   "outputs": [
    {
     "data": {
      "image/png": "[encoded data removed]",
      "text/plain": [
       "<Figure size 1008x432 with 1 Axes>"
      ]
     },
     "execution_count": 5,
     "metadata": {},
     "output_type": "execute_result"
    }
   ],
   "source": [
    "figure"
   ]
  },
  {
   "cell_type": "code",
   "execution_count": 6,
   "id": "4a7b4be7",
   "metadata": {},
   "outputs": [
    {
     "name": "stdout",
     "output_type": "stream",
     "text": [
      "Maximum ridership for July is 524178\n",
      "Minimum ridership for July is 226004\n",
      "Mean ridership for July is 357476\n",
      "Range for July is 298174\n",
      "\n",
      "Maximum ridership for October is 1606340\n",
      "Minimum ridership for October is 343765\n",
      "Mean ridership for October is 1215791\n",
      "Range for October is 1262575\n",
      "\n",
      "Maximum ridership for December is 1068610\n",
      "Minimum ridership for December is 214183\n",
      "Mean ridership for December is 776879\n",
      "Range for December is 854427\n",
      "\n",
      "Maximum ridership for February is 1582330\n",
      "Minimum ridership for February is 318071\n",
      "Mean ridership for February is 1198200\n",
      "Range for February is 1264259\n",
      "\n",
      "Maximum ridership for Total is 13551784.0\n",
      "Minimum ridership for Total is 3480360.0\n",
      "Mean ridership for Total is 10183726\n",
      "Range for Total is 10071424\n",
      "\n"
     ]
    }
   ],
   "source": [
    "finalized = temp #we will be analyzing the basic statistics using this dataframe\n",
    "\n",
    "#########Ridership Analysis in further detail\n",
    "for i in finalized.columns:\n",
    "    print('Maximum ridership for',i,'is',finalized[i].max())\n",
    "    print('Minimum ridership for',i,'is',finalized[i].min())\n",
    "    print('Mean ridership for',i,'is',int(finalized[i].mean()))\n",
    "    print('Range for',i,'is',int(finalized[i].max() - finalized[i].min()))\n",
    "    print()"
   ]
  },
  {
   "cell_type": "markdown",
   "id": "0e4b4f0f",
   "metadata": {},
   "source": [
    "# 02. Machine Learning Dataset Training Part"
   ]
  },
  {
   "cell_type": "code",
   "execution_count": 7,
   "id": "05658156",
   "metadata": {},
   "outputs": [],
   "source": [
    "from matplotlib.pylab import rcParams\n",
    "rcParams['figure.figsize']=20,10\n",
    "from keras.models import Sequential\n",
    "from keras.layers import LSTM,Dropout,Dense\n",
    "from sklearn.preprocessing import MinMaxScaler"
   ]
  },
  {
   "cell_type": "code",
   "execution_count": 8,
   "id": "359d9817",
   "metadata": {},
   "outputs": [
    {
     "data": {
      "text/html": [
       "<div>\n",
       "<style scoped>\n",
       "    .dataframe tbody tr th:only-of-type {\n",
       "        vertical-align: middle;\n",
       "    }\n",
       "\n",
       "    .dataframe tbody tr th {\n",
       "        vertical-align: top;\n",
       "    }\n",
       "\n",
       "    .dataframe thead th {\n",
       "        text-align: right;\n",
       "    }\n",
       "</style>\n",
       "<table border=\"1\" class=\"dataframe\">\n",
       "  <thead>\n",
       "    <tr style=\"text-align: right;\">\n",
       "      <th></th>\n",
       "      <th>Year</th>\n",
       "      <th>Total</th>\n",
       "    </tr>\n",
       "  </thead>\n",
       "  <tbody>\n",
       "    <tr>\n",
       "      <th>0</th>\n",
       "      <td>1997</td>\n",
       "      <td>9501302.0</td>\n",
       "    </tr>\n",
       "    <tr>\n",
       "      <th>1</th>\n",
       "      <td>1998</td>\n",
       "      <td>8670906.0</td>\n",
       "    </tr>\n",
       "    <tr>\n",
       "      <th>2</th>\n",
       "      <td>1999</td>\n",
       "      <td>8628101.0</td>\n",
       "    </tr>\n",
       "    <tr>\n",
       "      <th>3</th>\n",
       "      <td>2000</td>\n",
       "      <td>8800655.0</td>\n",
       "    </tr>\n",
       "    <tr>\n",
       "      <th>4</th>\n",
       "      <td>2001</td>\n",
       "      <td>10102665.0</td>\n",
       "    </tr>\n",
       "  </tbody>\n",
       "</table>\n",
       "</div>"
      ],
      "text/plain": [
       "   Year       Total\n",
       "0  1997   9501302.0\n",
       "1  1998   8670906.0\n",
       "2  1999   8628101.0\n",
       "3  2000   8800655.0\n",
       "4  2001  10102665.0"
      ]
     },
     "execution_count": 8,
     "metadata": {},
     "output_type": "execute_result"
    }
   ],
   "source": [
    "#LSTM Prediction Model\n",
    "df = df.sort_index(ascending=True,axis=0)\n",
    "\n",
    "data1 = pd.DataFrame(index=range(0,len(df)),columns=['Year','Total'])\n",
    "for i in range(0,len(data1)):\n",
    "    data1[\"Year\"][i]=df['Year'][i]\n",
    "    data1['Total'][i]=df['Total'][i]\n",
    "data1.head()\n"
   ]
  },
  {
   "cell_type": "code",
   "execution_count": 9,
   "id": "3c5094fd",
   "metadata": {},
   "outputs": [
    {
     "name": "stdout",
     "output_type": "stream",
     "text": [
      "20\n"
     ]
    }
   ],
   "source": [
    "#Min Max Scaler\n",
    "scaler1 = MinMaxScaler(feature_range=(0,1))\n",
    "data1.index= data1.Year\n",
    "data1.drop('Year',axis=1,inplace=True)\n",
    "\n",
    "final_data1 = data1.values\n",
    "\n",
    "a = 20\n",
    "\n",
    "train_data1 = final_data1[0:a,:]\n",
    "valid_data1 = final_data1[a:,:]\n",
    "print(len(train_data1))\n",
    "scaler1 = MinMaxScaler(feature_range=(0,1))\n",
    "\n",
    "scaled_data1 = scaler1.fit_transform(final_data1)\n",
    "\n",
    "x1_train_data = []\n",
    "y1_train_data = []\n",
    "\n",
    "lower = 4\n",
    "for i in range(lower,len(train_data1)):\n",
    "    x1_train_data.append(scaled_data1[i-lower:i,0])\n",
    "    y1_train_data.append(scaled_data1[i,0])\n",
    "    \n",
    "\n",
    "x1_train_data = np.array(x1_train_data)\n",
    "y1_train_data = np.array(y1_train_data)"
   ]
  },
  {
   "cell_type": "code",
   "execution_count": 10,
   "id": "9a4895d2",
   "metadata": {},
   "outputs": [
    {
     "data": {
      "text/plain": [
       "array([[0.84871931],\n",
       "       [0.97592674],\n",
       "       [1.        ],\n",
       "       [0.92242765],\n",
       "       [0.85575615],\n",
       "       [0.79909504],\n",
       "       [0.80910137],\n",
       "       [0.5448311 ],\n",
       "       [0.        ]])"
      ]
     },
     "execution_count": 10,
     "metadata": {},
     "output_type": "execute_result"
    }
   ],
   "source": [
    "#LSTM Model\n",
    "lstm_model1 = Sequential()\n",
    "lstm_model1.add(LSTM(units=50,return_sequences=True,input_shape=(np.shape(x1_train_data)[1],1)))\n",
    "lstm_model1.add(LSTM(units=50))\n",
    "lstm_model1.add(Dense(1))\n",
    "\n",
    "model_data1 = data1[len(data1)-len(valid_data1)-lower:].values\n",
    "model_data1 = model_data1.reshape(-1,1)\n",
    "model_data1 = scaler1.transform(model_data1)\n",
    "model_data1"
   ]
  },
  {
   "cell_type": "code",
   "execution_count": 11,
   "id": "5d63eb31",
   "metadata": {},
   "outputs": [
    {
     "name": "stdout",
     "output_type": "stream",
     "text": [
      "16/16 - 3s - loss: 0.3105 - 3s/epoch - 179ms/step\n"
     ]
    }
   ],
   "source": [
    "#Train and Test Data\n",
    "lstm_model1.compile(loss='mean_squared_error',optimizer='adam')\n",
    "\n",
    "lstm_model1.fit(x1_train_data,y1_train_data,epochs=1,batch_size=1,verbose=2)\n",
    "\n",
    "X1_test=[]\n",
    "\n",
    "for i in range(lower,model_data1.shape[0]):\n",
    "    X1_test.append(model_data1[i-lower:i,0])\n",
    "    \n",
    "\n",
    "X1_test = np.array(X1_test)\n",
    "X1_test = np.reshape(X1_test,(X1_test.shape[0],X1_test.shape[1],1))\n"
   ]
  },
  {
   "cell_type": "markdown",
   "id": "c490b7d8",
   "metadata": {},
   "source": [
    "# 03. Time Series Analysis and Traffic Trend Predictions"
   ]
  },
  {
   "cell_type": "code",
   "execution_count": 12,
   "id": "3e65af36",
   "metadata": {},
   "outputs": [
    {
     "name": "stdout",
     "output_type": "stream",
     "text": [
      "1/1 [==============================] - 1s 803ms/step\n"
     ]
    }
   ],
   "source": [
    "predicted_july = lstm_model1.predict(X1_test)\n",
    "predicted_july = scaler1.inverse_transform(predicted_july)"
   ]
  },
  {
   "cell_type": "code",
   "execution_count": 32,
   "id": "6959c829",
   "metadata": {},
   "outputs": [
    {
     "name": "stderr",
     "output_type": "stream",
     "text": [
      "<ipython-input-32-17f8ef6bedcf>:3: SettingWithCopyWarning: \n",
      "A value is trying to be set on a copy of a slice from a DataFrame.\n",
      "Try using .loc[row_indexer,col_indexer] = value instead\n",
      "\n",
      "See the caveats in the documentation: https://pandas.pydata.org/pandas-docs/stable/user_guide/indexing.html#returning-a-view-versus-a-copy\n",
      "  valid_data1['Predictions'] = predicted_july\n"
     ]
    },
    {
     "data": {
      "image/png": "[encoded data removed]",
      "text/plain": [
       "<Figure size 1008x432 with 1 Axes>"
      ]
     },
     "metadata": {
      "needs_background": "light"
     },
     "output_type": "display_data"
    }
   ],
   "source": [
    "train_data1 = data1[:a]\n",
    "valid_data1= data1[a:]\n",
    "valid_data1['Predictions'] = predicted_july\n",
    "plt.figure(figsize=(14,6))\n",
    "plt.grid()\n",
    "xx = df['Year']\n",
    "plt.xlabel('Year',fontsize=15)\n",
    "plt.ylabel('Ridership',fontsize=15)\n",
    "plt.title('Total Ridership vs Year',fontweight='bold',fontsize=15)\n",
    "\n",
    "\n",
    "\n",
    "plt.plot(xx[:-5],train_data1['Total'],label='Historical')\n",
    "plt.plot(xx[20:],valid_data1[['Total',\"Predictions\"][0]],label='Actual Data')\n",
    "plt.plot(xx[20:],valid_data1[['Total',\"Predictions\"][1]],label='Predicted Data')\n",
    "\n",
    "\n",
    "plt.legend()\n",
    "plt.show()"
   ]
  },
  {
   "cell_type": "code",
   "execution_count": null,
   "id": "be4f24ed",
   "metadata": {},
   "outputs": [],
   "source": []
  }
 ],
 "metadata": {
  "kernelspec": {
   "display_name": "Python 3",
   "language": "python",
   "name": "python3"
  },
  "language_info": {
   "codemirror_mode": {
    "name": "ipython",
    "version": 3
   },
   "file_extension": ".py",
   "mimetype": "text/x-python",
   "name": "python",
   "nbconvert_exporter": "python",
   "pygments_lexer": "ipython3",
   "version": "3.8.8"
  }
 },
 "nbformat": 4,
 "nbformat_minor": 5
}
